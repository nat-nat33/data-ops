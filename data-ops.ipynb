{
 "cells": [
  {
   "cell_type": "markdown",
   "metadata": {},
   "source": [
    "# Data Operations\n",
    "Performs Data Operations on HubSpot data and data housed in googlesheets.\n",
    "\n",
    "### 12/21/17\n",
    "\n",
    "### Natalie Ramirez\n",
    "\n",
    "## Project Description\n",
    "The purpose of this project is to perform data operations to consolidate existing HubSpot data and data housed in googlesheets.\n",
    "\n",
    "### Tools Used\n",
    "- python\n",
    "- python libs: urllib.request, json, pprint, csv, pyscopg2\n",
    "- vs code\n",
    "\n",
    "### Data Details\n",
    "**Data Source** - Hubspot Data CSV File<br/>\n",
    "**Data Source** - Googlesheet CSV File<br/>\n",
    "**Database** - PostgreSQL <br/>\n",
    "\n",
    "### Scripts\n",
    "- hb_data_dump.py\n",
    "- g_data_dump.py\n",
    "\n",
    "### Key Findings\n",
    "\n",
    "\n",
    "### Methods\n",
    "#### Understanding the data:\n",
    "\n",
    "\n",
    "#### Structuring the data:\n",
    "\n",
    "\n",
    "#### Creating scripts:\n",
    "\n",
    "\n",
    "### Conclusion\n"
   ]
  },
  {
   "cell_type": "code",
   "execution_count": null,
   "metadata": {
    "collapsed": true
   },
   "outputs": [],
   "source": []
  }
 ],
 "metadata": {
  "kernelspec": {
   "display_name": "Python 3",
   "language": "python",
   "name": "python3"
  },
  "language_info": {
   "codemirror_mode": {
    "name": "ipython",
    "version": 3
   },
   "file_extension": ".py",
   "mimetype": "text/x-python",
   "name": "python",
   "nbconvert_exporter": "python",
   "pygments_lexer": "ipython3",
   "version": "3.6.3"
  }
 },
 "nbformat": 4,
 "nbformat_minor": 2
}
