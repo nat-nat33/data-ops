{
 "cells": [
  {
   "cell_type": "markdown",
   "metadata": {},
   "source": [
    "# Data Operations\n",
    "Performs Data Operations on HubSpot data and data housed in googlesheets.\n",
    "\n",
    "### 12/21/17\n",
    "\n",
    "### Natalie Ramirez\n",
    "\n",
    "## Project Description\n",
    "The purpose of this project is to perform data operations to consolidate existing HubSpot data and data housed in googlesheets.\n",
    "\n",
    "### Tools Used\n",
    "- python\n",
    "- python libs: urllib.request, json, pprint, csv, pyscopg2\n",
    "- vs code\n",
    "\n",
    "### Data Details\n",
    "**Data Source** - Hubspot Data CSV File<br/>\n",
    "**Data Source** - Googlesheet CSV File<br/>\n",
    "**Database** - PostgreSQL <br/>\n",
    "\n",
    "### Scripts\n",
    "- hb_data_dump.py\n",
    "- g_data_dump.py\n",
    "\n",
    "### Key Findings\n",
    "\n",
    "\n",
    "### Methods\n",
    "#### Understanding the data:\n",
    "\n",
    "\n",
    "#### Structuring the data:\n",
    "\n",
    "\n",
    "#### Creating scripts:\n",
    "\n",
    "\n",
    "### Conclusion\n"
   ]
  },
  {
   "cell_type": "code",
   "execution_count": 7,
   "metadata": {},
   "outputs": [
    {
     "name": "stderr",
     "output_type": "stream",
     "text": [
      "ERROR:root:An unexpected error occurred while tokenizing input\n",
      "The following traceback may be corrupted or invalid\n",
      "The error message is: ('EOF in multi-line string', (1, 24))\n",
      "\n"
     ]
    },
    {
     "name": "stdout",
     "output_type": "stream",
     "text": [
      "Table data created successfully\n",
      "1 ['1', 'Mon, May 25, 2015', 'decline', 'time', '', '', 'Giovana', 'Rocha', 'F', '22', 'Brazil', '', 'PT Oct 24, 2015', 'C8', 'none', 'student', '', 'directory', 'switchup', 'yes', '6/20 coding challenge deadline, 6/9 sent follow up email  6/16 - college until dec/jan 2016, may join DL next year']\n"
     ]
    },
    {
     "ename": "ProgrammingError",
     "evalue": "relation \"all_applicants_g\" does not exist\nLINE 2:             INSERT INTO \"all_applicants_g\"(\n                                ^\n",
     "output_type": "error",
     "traceback": [
      "\u001b[0;31m---------------------------------------------------------------------------\u001b[0m",
      "\u001b[0;31mProgrammingError\u001b[0m                          Traceback (most recent call last)",
      "\u001b[0;32m<ipython-input-7-41ec931f5800>\u001b[0m in \u001b[0;36m<module>\u001b[0;34m()\u001b[0m\n\u001b[1;32m     63\u001b[0m             \u001b[0;34m\"elevate_scholarship\"\u001b[0m\u001b[0;34m,\u001b[0m\u001b[0;34m\u001b[0m\u001b[0m\n\u001b[1;32m     64\u001b[0m             \u001b[0;34m\"notes_log\"\u001b[0m\u001b[0;34m\u001b[0m\u001b[0m\n\u001b[0;32m---> 65\u001b[0;31m             ) values %s ''', [tuple(row)]\n\u001b[0m\u001b[1;32m     66\u001b[0m         )\n\u001b[1;32m     67\u001b[0m     \u001b[0mcon\u001b[0m\u001b[0;34m.\u001b[0m\u001b[0mcommit\u001b[0m\u001b[0;34m(\u001b[0m\u001b[0;34m)\u001b[0m\u001b[0;34m\u001b[0m\u001b[0m\n",
      "\u001b[0;31mProgrammingError\u001b[0m: relation \"all_applicants_g\" does not exist\nLINE 2:             INSERT INTO \"all_applicants_g\"(\n                                ^\n"
     ]
    }
   ],
   "source": [
    "import psycopg2, csv\n",
    " \n",
    "con = None\n",
    "\n",
    "# try to connect\n",
    "try:\n",
    "    # adapter to connect to postgres db \n",
    "    con = psycopg2.connect(database='hsbd', user='nat') \n",
    "    # allows python code to execute sql commands\n",
    "    cur = con.cursor()\n",
    "    # execute method that process sql commands in db\n",
    "    cur.execute('''DROP TABLE IF EXISTS all_contacts_g''')\n",
    "\n",
    "    cur.execute('''CREATE TABLE all_contacts_g\n",
    "        (   date text,\n",
    "            status text,\n",
    "            stage text,\n",
    "            referal text,\n",
    "            projected_start_date text,\n",
    "            first text,\n",
    "            last text,\n",
    "            gender text,\n",
    "            term text,\n",
    "            location text,\n",
    "            skype text,\n",
    "            start_date text,\n",
    "            cohort text,\n",
    "            experience text,\n",
    "            profession text,\n",
    "            motivation text,\n",
    "            media text,\n",
    "            media2 text,\n",
    "            elevate_scholarship text,\n",
    "            notes_log text\n",
    "        );''')\n",
    "    print (\"Table data created successfully\")\n",
    " \n",
    "    reader = csv.reader(open('devleague_applicants_data.csv', 'r', encoding = 'ISO-8859-1'))\n",
    " \n",
    "    for i, row in enumerate(reader):\n",
    "        if i < 1 : continue\n",
    "        print(i, row)\n",
    "        cur.execute('''\n",
    "            INSERT INTO \"all_applicants_g\"(\n",
    "            \"date\",\n",
    "            \"status\",\n",
    "            \"stage\",\n",
    "            \"referal\",\n",
    "            \"projected_start_date\",\n",
    "            \"first\",\n",
    "            \"last\",\n",
    "            \"gender\",\n",
    "            \"term\",\n",
    "            \"location\",\n",
    "            \"skype\",\n",
    "            \"start_date\",\n",
    "            \"cohort\",\n",
    "            \"experience\",\n",
    "            \"profession\",\n",
    "            \"motivation\",\n",
    "            \"media\",\n",
    "            \"media2\",\n",
    "            \"elevate_scholarship\",\n",
    "            \"notes_log\"\n",
    "            ) values %s ''', [tuple(row)]\n",
    "        )\n",
    "    con.commit()\n",
    "\n",
    "finally:\n",
    "    \n",
    "    if con:\n",
    "        con.close()"
   ]
  },
  {
   "cell_type": "code",
   "execution_count": null,
   "metadata": {
    "collapsed": true
   },
   "outputs": [],
   "source": []
  }
 ],
 "metadata": {
  "kernelspec": {
   "display_name": "Python 3",
   "language": "python",
   "name": "python3"
  },
  "language_info": {
   "codemirror_mode": {
    "name": "ipython",
    "version": 3
   },
   "file_extension": ".py",
   "mimetype": "text/x-python",
   "name": "python",
   "nbconvert_exporter": "python",
   "pygments_lexer": "ipython3",
   "version": "3.6.3"
  }
 },
 "nbformat": 4,
 "nbformat_minor": 2
}
